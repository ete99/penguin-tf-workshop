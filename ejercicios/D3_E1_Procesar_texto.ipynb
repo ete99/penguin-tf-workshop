{
  "nbformat": 4,
  "nbformat_minor": 0,
  "metadata": {
    "colab": {
      "name": "D3_E1_Procesar_texto.ipynb",
      "provenance": []
    },
    "kernelspec": {
      "name": "python3",
      "display_name": "Python 3"
    }
  },
  "cells": [
    {
      "cell_type": "markdown",
      "metadata": {
        "id": "c9lfzOJdb0SD",
        "colab_type": "text"
      },
      "source": [
        "# Procesando texto.\n",
        "\n",
        "Los siguientes ejercicios están diseñados para experimentar el procesamiento de datos textuales en TensorFlow.\n",
        "\n",
        "Antes que nada, importamos las bibliotecas y funciones necesarias."
      ]
    },
    {
      "cell_type": "code",
      "metadata": {
        "id": "-74V3ZEibsM1",
        "colab_type": "code",
        "outputId": "97a64a99-2ad4-4753-b9af-e6e02419b0fc",
        "colab": {
          "base_uri": "https://localhost:8080/",
          "height": 34
        }
      },
      "source": [
        "%tensorflow_version 2.x\n",
        "import tensorflow as tf\n",
        "from tensorflow.keras.preprocessing.sequence import pad_sequences"
      ],
      "execution_count": 0,
      "outputs": [
        {
          "output_type": "stream",
          "text": [
            "TensorFlow 2.x selected.\n"
          ],
          "name": "stdout"
        }
      ]
    },
    {
      "cell_type": "markdown",
      "metadata": {
        "id": "08pz7UgIcL5A",
        "colab_type": "text"
      },
      "source": [
        "# Ejercicio 1 - corpus\n",
        " Escribe (O busca en Internet) un conjunto de oraciones, este será el corpus por el resto del ejercicio. El formato correcto es una lista de python que contenga un `str` por oración.\n",
        "\n",
        " **Tip:** una forma rápida de crear la lista es utilizando la función `split` "
      ]
    },
    {
      "cell_type": "code",
      "metadata": {
        "id": "tiSX3k0jcLYv",
        "colab_type": "code",
        "colab": {}
      },
      "source": [
        "corpus = ['La guitarra',\n",
        "          'hace llorar a los sueños.',\n",
        "          'El sollozo de las almas',\n",
        "          'perdidas',\n",
        "          'se escapa por su boca',\n",
        "          'redonda.',\n",
        "          'Y como la tarántula,',\n",
        "          'teje una gran estrella',\n",
        "          'para cazar suspiros,',\n",
        "          'que flotan en su negro',\n",
        "          'aljibe de madera.'] #  Las seis cuerdas (Federico García Lorca)\n",
        "# tu código aquí (~2-15 líneas)"
      ],
      "execution_count": 0,
      "outputs": []
    },
    {
      "cell_type": "markdown",
      "metadata": {
        "id": "Jd_HhZekdFME",
        "colab_type": "text"
      },
      "source": [
        "# Ejercicio 2 - Tokenizar el corpus\n",
        "\n",
        "Escribe un tokenizador para codificar el corpus. Luego, imprime el vocabulario\n",
        "\n",
        "Note que el índice 1 no siempre es la primera palabra del corpus ¿Cuál te parece una buena explicación para esto?"
      ]
    },
    {
      "cell_type": "code",
      "metadata": {
        "id": "rvQXnTwscjxL",
        "colab_type": "code",
        "colab": {}
      },
      "source": [
        "# tu código aquí (~5 líneas)"
      ],
      "execution_count": 0,
      "outputs": []
    },
    {
      "cell_type": "markdown",
      "metadata": {
        "id": "rzcL3bwgf5Xe",
        "colab_type": "text"
      },
      "source": [
        "# Ejercicio 3 - generar una lista de secuencias\n",
        "\n",
        "Usa el tokenizador para transformar el corpus en una lista de secuencias numérica."
      ]
    },
    {
      "cell_type": "code",
      "metadata": {
        "id": "RJsnuRh8gDGc",
        "colab_type": "code",
        "colab": {}
      },
      "source": [
        "# tu código aquí (~1 línea)"
      ],
      "execution_count": 0,
      "outputs": []
    },
    {
      "cell_type": "markdown",
      "metadata": {
        "id": "WVUrPRDAgGvq",
        "colab_type": "text"
      },
      "source": [
        "# Ejercicio 4 - Limitaciones al tokenizador\n",
        "\n",
        "Explora los resultados de limitar el vocabulario a un número de palabras menos al que ocurre naturalmente en el corpus. Responde las siguientes preguntas\n",
        "\n",
        "* ¿Qué efecto tiene esta limitación en las secuencias generadas?\n",
        "* ¿Si las secuencias generadas con el vocabulario reducido se vuelven a convertir a texto, que pasa?\n",
        "\n"
      ]
    },
    {
      "cell_type": "code",
      "metadata": {
        "id": "gjh5ek_GgGFt",
        "colab_type": "code",
        "colab": {}
      },
      "source": [
        "# crear un nuevo tokenizador limitado \n",
        "# tu código aquí (~5 líneas)\n",
        "\n",
        "# transformar el corpus a una lista de secuencias numéricas \n",
        "# tu código aquí (~1 línea)\n",
        "\n",
        "# transformar la lista de secuencia a una lista de textos (NO SOBREREESCRIBIR EL CORPUS)\n",
        "# tu código aquí (~1 línea)"
      ],
      "execution_count": 0,
      "outputs": []
    },
    {
      "cell_type": "markdown",
      "metadata": {
        "id": "uGq3aCxzhAHf",
        "colab_type": "text"
      },
      "source": [
        "La siguiente celda está vacía para que pueda explorar el texto como desee."
      ]
    },
    {
      "cell_type": "code",
      "metadata": {
        "id": "d6SCDcjVhGeM",
        "colab_type": "code",
        "colab": {}
      },
      "source": [
        ""
      ],
      "execution_count": 0,
      "outputs": []
    },
    {
      "cell_type": "markdown",
      "metadata": {
        "id": "DutgfV-dhHv9",
        "colab_type": "text"
      },
      "source": [
        "# Ejercicio 5 - Ejemplos fuera del texto.\n",
        "\n",
        "Usa el tokenizador para codificar un texto con alguna palabra nueva, ¿cuál es el resultado?"
      ]
    },
    {
      "cell_type": "code",
      "metadata": {
        "id": "N9rlz5KnjOVu",
        "colab_type": "code",
        "colab": {}
      },
      "source": [
        "# tu código aquí (~ 2 líneas)"
      ],
      "execution_count": 0,
      "outputs": []
    },
    {
      "cell_type": "markdown",
      "metadata": {
        "id": "3fcfE8aEjz2Y",
        "colab_type": "text"
      },
      "source": [
        "# Ejercicio 6 - OOV tokens\n",
        "\n",
        "Crea un tokenizer que establezca un valor para valores fuera del vocabulario, y entrenalo con el corpus original. \n",
        "\n",
        "Luego, prueba codificar un texto con palabras fuera del vocabulario."
      ]
    },
    {
      "cell_type": "code",
      "metadata": {
        "id": "3gG-HYmhkGCl",
        "colab_type": "code",
        "colab": {}
      },
      "source": [
        "# tu código aquí (~5 líneas)"
      ],
      "execution_count": 0,
      "outputs": []
    },
    {
      "cell_type": "markdown",
      "metadata": {
        "id": "h-_pBnhuxBvm",
        "colab_type": "text"
      },
      "source": [
        "# Ejercicio 7 - Estandarizar el texto\n",
        "\n",
        "Termine el pre-procesamiento del texto haciendo que todos los ejemplos tengan una longitud uniforme."
      ]
    },
    {
      "cell_type": "code",
      "metadata": {
        "id": "51ufkRAHyYut",
        "colab_type": "code",
        "colab": {}
      },
      "source": [
        "# su código aquí (~1ínea)"
      ],
      "execution_count": 0,
      "outputs": []
    }
  ]
}